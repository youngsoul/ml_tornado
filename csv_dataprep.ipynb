{
 "cells": [
  {
   "cell_type": "code",
   "execution_count": 3,
   "metadata": {},
   "outputs": [],
   "source": [
    "import pandas as pd\n",
    "import numpy as np\n",
    "import matplotlib\n",
    "import matplotlib.pyplot as plt\n",
    "%matplotlib inline  \n",
    "from sklearn.model_selection import train_test_split\n",
    "import datetime as dt\n",
    "from sklearn.neighbors import KNeighborsClassifier \n",
    "from sklearn.metrics import confusion_matrix, classification_report\n",
    "from sklearn import metrics\n",
    "from sklearn.tree import DecisionTreeClassifier"
   ]
  },
  {
   "cell_type": "code",
   "execution_count": 4,
   "metadata": {},
   "outputs": [
    {
     "data": {
      "text/html": [
       "<div>\n",
       "<style scoped>\n",
       "    .dataframe tbody tr th:only-of-type {\n",
       "        vertical-align: middle;\n",
       "    }\n",
       "\n",
       "    .dataframe tbody tr th {\n",
       "        vertical-align: top;\n",
       "    }\n",
       "\n",
       "    .dataframe thead th {\n",
       "        text-align: right;\n",
       "    }\n",
       "</style>\n",
       "<table border=\"1\" class=\"dataframe\">\n",
       "  <thead>\n",
       "    <tr style=\"text-align: right;\">\n",
       "      <th></th>\n",
       "      <th>Date</th>\n",
       "      <th>State_Num</th>\n",
       "      <th>State</th>\n",
       "      <th>County_Num</th>\n",
       "      <th>County_Name</th>\n",
       "      <th>Event</th>\n",
       "      <th>Property_DMG</th>\n",
       "      <th>Damage Factor</th>\n",
       "      <th>F-Scale</th>\n",
       "    </tr>\n",
       "  </thead>\n",
       "  <tbody>\n",
       "    <tr>\n",
       "      <th>0</th>\n",
       "      <td>1984-07-05</td>\n",
       "      <td>1</td>\n",
       "      <td>AL</td>\n",
       "      <td>95</td>\n",
       "      <td>MARSHALL</td>\n",
       "      <td>TORNADO</td>\n",
       "      <td>25.0</td>\n",
       "      <td>K</td>\n",
       "      <td>1.0</td>\n",
       "    </tr>\n",
       "    <tr>\n",
       "      <th>1</th>\n",
       "      <td>1984-09-15</td>\n",
       "      <td>1</td>\n",
       "      <td>AL</td>\n",
       "      <td>39</td>\n",
       "      <td>COVINGTON</td>\n",
       "      <td>TORNADO</td>\n",
       "      <td>25.0</td>\n",
       "      <td>K</td>\n",
       "      <td>1.0</td>\n",
       "    </tr>\n",
       "    <tr>\n",
       "      <th>2</th>\n",
       "      <td>1984-10-15</td>\n",
       "      <td>1</td>\n",
       "      <td>AL</td>\n",
       "      <td>35</td>\n",
       "      <td>CONECUH</td>\n",
       "      <td>TORNADO</td>\n",
       "      <td>250.0</td>\n",
       "      <td>K</td>\n",
       "      <td>2.0</td>\n",
       "    </tr>\n",
       "    <tr>\n",
       "      <th>3</th>\n",
       "      <td>1984-11-10</td>\n",
       "      <td>1</td>\n",
       "      <td>AL</td>\n",
       "      <td>75</td>\n",
       "      <td>LAMAR</td>\n",
       "      <td>TORNADO</td>\n",
       "      <td>2.5</td>\n",
       "      <td>K</td>\n",
       "      <td>0.0</td>\n",
       "    </tr>\n",
       "    <tr>\n",
       "      <th>4</th>\n",
       "      <td>1984-11-10</td>\n",
       "      <td>1</td>\n",
       "      <td>AL</td>\n",
       "      <td>107</td>\n",
       "      <td>PICKENS</td>\n",
       "      <td>TORNADO</td>\n",
       "      <td>250.0</td>\n",
       "      <td>K</td>\n",
       "      <td>2.0</td>\n",
       "    </tr>\n",
       "  </tbody>\n",
       "</table>\n",
       "</div>"
      ],
      "text/plain": [
       "        Date  State_Num State  County_Num County_Name    Event  Property_DMG  \\\n",
       "0 1984-07-05          1    AL          95    MARSHALL  TORNADO          25.0   \n",
       "1 1984-09-15          1    AL          39   COVINGTON  TORNADO          25.0   \n",
       "2 1984-10-15          1    AL          35     CONECUH  TORNADO         250.0   \n",
       "3 1984-11-10          1    AL          75       LAMAR  TORNADO           2.5   \n",
       "4 1984-11-10          1    AL         107     PICKENS  TORNADO         250.0   \n",
       "\n",
       "  Damage Factor  F-Scale  \n",
       "0             K      1.0  \n",
       "1             K      1.0  \n",
       "2             K      2.0  \n",
       "3             K      0.0  \n",
       "4             K      2.0  "
      ]
     },
     "execution_count": 4,
     "metadata": {},
     "output_type": "execute_result"
    }
   ],
   "source": [
    "df = pd.read_excel('./data/TornadoData.xlsx', 'Tornado_MinData')\n",
    "df.head()"
   ]
  },
  {
   "cell_type": "code",
   "execution_count": 7,
   "metadata": {},
   "outputs": [],
   "source": [
    "# add a month column to the data set\n",
    "df['Month'] = df['Date'].apply(lambda d: d.month)\n",
    "df['Year'] =  df['Date'].apply(lambda d: d.year)"
   ]
  },
  {
   "cell_type": "code",
   "execution_count": 9,
   "metadata": {},
   "outputs": [],
   "source": [
    "df.to_csv('./data/TornadoDataYearMonth.csv')"
   ]
  },
  {
   "cell_type": "code",
   "execution_count": null,
   "metadata": {},
   "outputs": [],
   "source": []
  },
  {
   "cell_type": "code",
   "execution_count": null,
   "metadata": {},
   "outputs": [],
   "source": []
  }
 ],
 "metadata": {
  "kernelspec": {
   "display_name": "Python 3",
   "language": "python",
   "name": "python3"
  },
  "language_info": {
   "codemirror_mode": {
    "name": "ipython",
    "version": 3
   },
   "file_extension": ".py",
   "mimetype": "text/x-python",
   "name": "python",
   "nbconvert_exporter": "python",
   "pygments_lexer": "ipython3",
   "version": "3.6.3"
  }
 },
 "nbformat": 4,
 "nbformat_minor": 2
}
